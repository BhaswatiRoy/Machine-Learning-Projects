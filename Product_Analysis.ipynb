{
  "nbformat": 4,
  "nbformat_minor": 0,
  "metadata": {
    "colab": {
      "name": "Product Analysis ",
      "provenance": [],
      "collapsed_sections": [],
      "authorship_tag": "ABX9TyOxdt9xc1OeR3Nss3toR/eM",
      "include_colab_link": true
    },
    "kernelspec": {
      "name": "python3",
      "display_name": "Python 3"
    },
    "language_info": {
      "name": "python"
    }
  },
  "cells": [
    {
      "cell_type": "markdown",
      "metadata": {
        "id": "view-in-github",
        "colab_type": "text"
      },
      "source": [
        "<a href=\"https://colab.research.google.com/github/BhaswatiRoy/Machine-Learning-Projects/blob/main/Product_Analysis.ipynb\" target=\"_parent\"><img src=\"https://colab.research.google.com/assets/colab-badge.svg\" alt=\"Open In Colab\"/></a>"
      ]
    },
    {
      "cell_type": "code",
      "metadata": {
        "id": "B-ntzlPhzOvv"
      },
      "source": [
        "import numpy as np\n",
        "import pandas as pd\n",
        "import matplotlib.pyplot as plt\n",
        "import seaborn as sns\n",
        "from sklearn.metrics import confusion_matrix"
      ],
      "execution_count": null,
      "outputs": []
    },
    {
      "cell_type": "code",
      "metadata": {
        "id": "bg2wUy38zrxv"
      },
      "source": [
        "df=pd.read_csv(\"Product Analysis.csv\")"
      ],
      "execution_count": null,
      "outputs": []
    },
    {
      "cell_type": "code",
      "metadata": {
        "colab": {
          "base_uri": "https://localhost:8080/",
          "height": 204
        },
        "id": "FldZzkrG0ZYu",
        "outputId": "d9b377e6-590d-4fe8-d628-3aa21407b298"
      },
      "source": [
        "df.head()"
      ],
      "execution_count": null,
      "outputs": [
        {
          "output_type": "execute_result",
          "data": {
            "text/html": [
              "<div>\n",
              "<style scoped>\n",
              "    .dataframe tbody tr th:only-of-type {\n",
              "        vertical-align: middle;\n",
              "    }\n",
              "\n",
              "    .dataframe tbody tr th {\n",
              "        vertical-align: top;\n",
              "    }\n",
              "\n",
              "    .dataframe thead th {\n",
              "        text-align: right;\n",
              "    }\n",
              "</style>\n",
              "<table border=\"1\" class=\"dataframe\">\n",
              "  <thead>\n",
              "    <tr style=\"text-align: right;\">\n",
              "      <th></th>\n",
              "      <th>User ID</th>\n",
              "      <th>Gender</th>\n",
              "      <th>Age</th>\n",
              "      <th>EstimatedSalary</th>\n",
              "      <th>Purchased</th>\n",
              "    </tr>\n",
              "  </thead>\n",
              "  <tbody>\n",
              "    <tr>\n",
              "      <th>0</th>\n",
              "      <td>15624510</td>\n",
              "      <td>Male</td>\n",
              "      <td>19.0</td>\n",
              "      <td>19000.0</td>\n",
              "      <td>0</td>\n",
              "    </tr>\n",
              "    <tr>\n",
              "      <th>1</th>\n",
              "      <td>15810944</td>\n",
              "      <td>Male</td>\n",
              "      <td>35.0</td>\n",
              "      <td>20000.0</td>\n",
              "      <td>0</td>\n",
              "    </tr>\n",
              "    <tr>\n",
              "      <th>2</th>\n",
              "      <td>15668575</td>\n",
              "      <td>Female</td>\n",
              "      <td>26.0</td>\n",
              "      <td>43000.0</td>\n",
              "      <td>0</td>\n",
              "    </tr>\n",
              "    <tr>\n",
              "      <th>3</th>\n",
              "      <td>15603246</td>\n",
              "      <td>Female</td>\n",
              "      <td>27.0</td>\n",
              "      <td>57000.0</td>\n",
              "      <td>0</td>\n",
              "    </tr>\n",
              "    <tr>\n",
              "      <th>4</th>\n",
              "      <td>15804002</td>\n",
              "      <td>Male</td>\n",
              "      <td>19.0</td>\n",
              "      <td>76000.0</td>\n",
              "      <td>0</td>\n",
              "    </tr>\n",
              "  </tbody>\n",
              "</table>\n",
              "</div>"
            ],
            "text/plain": [
              "    User ID  Gender   Age  EstimatedSalary  Purchased\n",
              "0  15624510    Male  19.0          19000.0          0\n",
              "1  15810944    Male  35.0          20000.0          0\n",
              "2  15668575  Female  26.0          43000.0          0\n",
              "3  15603246  Female  27.0          57000.0          0\n",
              "4  15804002    Male  19.0          76000.0          0"
            ]
          },
          "metadata": {
            "tags": []
          },
          "execution_count": 3
        }
      ]
    },
    {
      "cell_type": "code",
      "metadata": {
        "id": "MYaOAneR0fFW"
      },
      "source": [
        "#values=>convert automaically to numpy array\n",
        "x=df.iloc[:,[2,3]].values\n",
        "y=df.iloc[:,4].values"
      ],
      "execution_count": null,
      "outputs": []
    },
    {
      "cell_type": "code",
      "metadata": {
        "id": "MceOoYs_17EV"
      },
      "source": [
        "#scaling means to convert values to a range which shows equivalent values\n",
        "from sklearn.preprocessing import StandardScaler\n",
        "scalar=StandardScaler()\n",
        "x=scalar.fit_transform(x)\n",
        "#y is not needed to scale"
      ],
      "execution_count": null,
      "outputs": []
    },
    {
      "cell_type": "code",
      "metadata": {
        "id": "Mh1QP-tdz7v1"
      },
      "source": [
        "#splitting the dataset to training and testing datasets\n",
        "from sklearn.model_selection import train_test_split\n",
        "x_train,x_test,y_train,y_test=train_test_split(x,y,test_size=0.2,random_state=0)"
      ],
      "execution_count": null,
      "outputs": []
    },
    {
      "cell_type": "markdown",
      "metadata": {
        "id": "O6wxDOu7W3pW"
      },
      "source": [
        "**Applying Logistic Regression**"
      ]
    },
    {
      "cell_type": "code",
      "metadata": {
        "id": "hh4Sfc1FzsDG",
        "colab": {
          "base_uri": "https://localhost:8080/"
        },
        "outputId": "5bcf2c3a-5ff1-42be-c269-33d7979d8855"
      },
      "source": [
        "from sklearn.linear_model import LogisticRegression\n",
        "model_lr=LogisticRegression()\n",
        "model_lr.fit(x_train,y_train)"
      ],
      "execution_count": null,
      "outputs": [
        {
          "output_type": "execute_result",
          "data": {
            "text/plain": [
              "LogisticRegression(C=1.0, class_weight=None, dual=False, fit_intercept=True,\n",
              "                   intercept_scaling=1, l1_ratio=None, max_iter=100,\n",
              "                   multi_class='auto', n_jobs=None, penalty='l2',\n",
              "                   random_state=None, solver='lbfgs', tol=0.0001, verbose=0,\n",
              "                   warm_start=False)"
            ]
          },
          "metadata": {
            "tags": []
          },
          "execution_count": 20
        }
      ]
    },
    {
      "cell_type": "code",
      "metadata": {
        "id": "CYOeVndaz5LV",
        "colab": {
          "base_uri": "https://localhost:8080/"
        },
        "outputId": "5b933c92-f3e6-4e38-fa57-697a91682613"
      },
      "source": [
        "y_preds_lr=model_lr.predict(x_test)\n",
        "y_preds_lr"
      ],
      "execution_count": null,
      "outputs": [
        {
          "output_type": "execute_result",
          "data": {
            "text/plain": [
              "array([0, 0, 0, 0, 0, 0, 0, 1, 0, 0, 0, 0, 0, 0, 0, 0, 0, 0, 1, 0, 0, 1,\n",
              "       0, 1, 0, 1, 0, 0, 0, 0, 0, 0, 1, 0, 0, 0, 0, 0, 0, 1, 0, 0, 0, 0,\n",
              "       1, 0, 0, 1, 0, 1, 1, 0, 0, 0, 1, 0, 0, 0, 0, 0, 0, 1, 0, 0, 0, 1,\n",
              "       0, 0, 0, 0, 1, 0, 0, 0, 0, 0, 1, 0, 1, 1])"
            ]
          },
          "metadata": {
            "tags": []
          },
          "execution_count": 21
        }
      ]
    },
    {
      "cell_type": "code",
      "metadata": {
        "id": "vWNkdiwmz5QV",
        "colab": {
          "base_uri": "https://localhost:8080/"
        },
        "outputId": "e5723411-1747-409e-8a1b-558c37bdbafa"
      },
      "source": [
        "#to measure accuracy of classification problem we need a confusion matrix\n",
        "cm_lr=confusion_matrix(y_test,y_preds_lr)\n",
        "cm_lr"
      ],
      "execution_count": null,
      "outputs": [
        {
          "output_type": "execute_result",
          "data": {
            "text/plain": [
              "array([[57,  1],\n",
              "       [ 5, 17]])"
            ]
          },
          "metadata": {
            "tags": []
          },
          "execution_count": 22
        }
      ]
    },
    {
      "cell_type": "code",
      "metadata": {
        "colab": {
          "base_uri": "https://localhost:8080/",
          "height": 282
        },
        "id": "wY54nbtY6ECE",
        "outputId": "adcb7ff2-5935-489f-e47e-5381151c359c"
      },
      "source": [
        "sns.heatmap(cm_lr)"
      ],
      "execution_count": null,
      "outputs": [
        {
          "output_type": "execute_result",
          "data": {
            "text/plain": [
              "<matplotlib.axes._subplots.AxesSubplot at 0x7fbaed025910>"
            ]
          },
          "metadata": {
            "tags": []
          },
          "execution_count": 23
        },
        {
          "output_type": "display_data",
          "data": {
            "image/png": "[encoded data removed]",
            "text/plain": [
              "<Figure size 432x288 with 2 Axes>"
            ]
          },
          "metadata": {
            "tags": [],
            "needs_background": "light"
          }
        }
      ]
    },
    {
      "cell_type": "markdown",
      "metadata": {
        "id": "N5BkyIRkXAMf"
      },
      "source": [
        "**Applying Support Vector Machines Classifier**"
      ]
    },
    {
      "cell_type": "code",
      "metadata": {
        "colab": {
          "base_uri": "https://localhost:8080/"
        },
        "id": "UbLFOlBEbQXn",
        "outputId": "728c889d-cf3e-4e74-89d1-fb4138c483bb"
      },
      "source": [
        "from sklearn.svm import SVC\n",
        "model_svc=SVC(kernel=\"linear\")\n",
        "model_svc.fit(x_train,y_train)"
      ],
      "execution_count": null,
      "outputs": [
        {
          "output_type": "execute_result",
          "data": {
            "text/plain": [
              "SVC(C=1.0, break_ties=False, cache_size=200, class_weight=None, coef0=0.0,\n",
              "    decision_function_shape='ovr', degree=3, gamma='scale', kernel='linear',\n",
              "    max_iter=-1, probability=False, random_state=None, shrinking=True,\n",
              "    tol=0.001, verbose=False)"
            ]
          },
          "metadata": {
            "tags": []
          },
          "execution_count": 24
        }
      ]
    },
    {
      "cell_type": "code",
      "metadata": {
        "colab": {
          "base_uri": "https://localhost:8080/"
        },
        "id": "cEpvorBBbqv1",
        "outputId": "4ee9bcd5-6e37-4f40-9064-92489d473331"
      },
      "source": [
        "y_preds_svc=model_svc.predict(x_test)\n",
        "y_preds_svc"
      ],
      "execution_count": null,
      "outputs": [
        {
          "output_type": "execute_result",
          "data": {
            "text/plain": [
              "array([0, 0, 0, 0, 0, 0, 0, 1, 0, 0, 0, 0, 0, 0, 0, 0, 0, 0, 1, 0, 0, 1,\n",
              "       0, 1, 0, 1, 0, 0, 0, 0, 0, 0, 1, 0, 0, 0, 0, 0, 0, 0, 0, 0, 0, 0,\n",
              "       1, 0, 0, 1, 0, 1, 1, 0, 0, 0, 1, 0, 0, 0, 0, 0, 0, 1, 0, 0, 0, 1,\n",
              "       0, 0, 0, 0, 1, 0, 0, 0, 0, 0, 1, 0, 1, 1])"
            ]
          },
          "metadata": {
            "tags": []
          },
          "execution_count": 25
        }
      ]
    },
    {
      "cell_type": "code",
      "metadata": {
        "colab": {
          "base_uri": "https://localhost:8080/"
        },
        "id": "gH7FYk0tb8UN",
        "outputId": "ce7b207c-02e3-4e45-8b73-2ca451cfa36a"
      },
      "source": [
        "cm_svc=confusion_matrix(y_test,y_preds_svc)\n",
        "cm_svc"
      ],
      "execution_count": null,
      "outputs": [
        {
          "output_type": "execute_result",
          "data": {
            "text/plain": [
              "array([[57,  1],\n",
              "       [ 6, 16]])"
            ]
          },
          "metadata": {
            "tags": []
          },
          "execution_count": 26
        }
      ]
    },
    {
      "cell_type": "markdown",
      "metadata": {
        "id": "aSPivi7tXF2P"
      },
      "source": [
        "**Applying K Nearest Neighbors Classifier**"
      ]
    },
    {
      "cell_type": "code",
      "metadata": {
        "colab": {
          "base_uri": "https://localhost:8080/"
        },
        "id": "7ErHgOyLWzUj",
        "outputId": "bcbec311-6538-40f2-a1a6-5ed146d5c6f3"
      },
      "source": [
        "from sklearn.neighbors import KNeighborsClassifier\n",
        "#for binary classification problem using n=3 is a good choice\n",
        "model_knn=KNeighborsClassifier(n_neighbors=3)\n",
        "model_knn.fit(x_train,y_train)"
      ],
      "execution_count": null,
      "outputs": [
        {
          "output_type": "execute_result",
          "data": {
            "text/plain": [
              "KNeighborsClassifier(algorithm='auto', leaf_size=30, metric='minkowski',\n",
              "                     metric_params=None, n_jobs=None, n_neighbors=3, p=2,\n",
              "                     weights='uniform')"
            ]
          },
          "metadata": {
            "tags": []
          },
          "execution_count": 27
        }
      ]
    },
    {
      "cell_type": "code",
      "metadata": {
        "colab": {
          "base_uri": "https://localhost:8080/"
        },
        "id": "sNbGVeOCYlap",
        "outputId": "3170b759-acca-4857-9dc6-acfc5c4d21b5"
      },
      "source": [
        "y_preds_knn=model_knn.predict(x_test)\n",
        "y_preds_knn"
      ],
      "execution_count": null,
      "outputs": [
        {
          "output_type": "execute_result",
          "data": {
            "text/plain": [
              "array([0, 0, 0, 0, 0, 0, 0, 1, 0, 1, 0, 0, 0, 0, 0, 1, 0, 0, 1, 0, 0, 1,\n",
              "       0, 1, 0, 1, 0, 0, 0, 0, 0, 0, 1, 0, 0, 0, 0, 0, 0, 1, 0, 0, 0, 0,\n",
              "       1, 0, 0, 1, 0, 1, 1, 0, 0, 1, 1, 1, 0, 0, 1, 0, 0, 1, 0, 1, 0, 1,\n",
              "       0, 0, 0, 0, 1, 0, 0, 1, 0, 0, 0, 0, 1, 1])"
            ]
          },
          "metadata": {
            "tags": []
          },
          "execution_count": 28
        }
      ]
    },
    {
      "cell_type": "code",
      "metadata": {
        "colab": {
          "base_uri": "https://localhost:8080/"
        },
        "id": "PsaADa-XbQHm",
        "outputId": "a03dc610-042a-4bce-d411-547bc695a30e"
      },
      "source": [
        "cm_knn=confusion_matrix(y_test,y_preds_knn)\n",
        "cm_knn"
      ],
      "execution_count": null,
      "outputs": [
        {
          "output_type": "execute_result",
          "data": {
            "text/plain": [
              "array([[55,  3],\n",
              "       [ 1, 21]])"
            ]
          },
          "metadata": {
            "tags": []
          },
          "execution_count": 29
        }
      ]
    },
    {
      "cell_type": "code",
      "metadata": {
        "colab": {
          "base_uri": "https://localhost:8080/",
          "height": 282
        },
        "id": "va3D4PKtbc3e",
        "outputId": "0e27e39d-3e38-49c4-f8f9-3c4227c57331"
      },
      "source": [
        "sns.heatmap(cm_knn)"
      ],
      "execution_count": null,
      "outputs": [
        {
          "output_type": "execute_result",
          "data": {
            "text/plain": [
              "<matplotlib.axes._subplots.AxesSubplot at 0x7fbaec020110>"
            ]
          },
          "metadata": {
            "tags": []
          },
          "execution_count": 30
        },
        {
          "output_type": "display_data",
          "data": {
            "image/png": "[encoded data removed]",
            "text/plain": [
              "<Figure size 432x288 with 2 Axes>"
            ]
          },
          "metadata": {
            "tags": [],
            "needs_background": "light"
          }
        }
      ]
    },
    {
      "cell_type": "markdown",
      "metadata": {
        "id": "fT5xB_zueOtL"
      },
      "source": [
        "**Applying Decision Tree Classifier**\n",
        "\n"
      ]
    },
    {
      "cell_type": "code",
      "metadata": {
        "id": "rU3dK6QPbuQv",
        "colab": {
          "base_uri": "https://localhost:8080/"
        },
        "outputId": "5e356e6d-deba-40a2-93a3-9bc0a350fcff"
      },
      "source": [
        "from sklearn.tree import DecisionTreeClassifier\n",
        "model_tree=DecisionTreeClassifier(max_leaf_nodes=10)\n",
        "model_tree.fit(x_train,y_train)"
      ],
      "execution_count": null,
      "outputs": [
        {
          "output_type": "execute_result",
          "data": {
            "text/plain": [
              "DecisionTreeClassifier(ccp_alpha=0.0, class_weight=None, criterion='gini',\n",
              "                       max_depth=None, max_features=None, max_leaf_nodes=10,\n",
              "                       min_impurity_decrease=0.0, min_impurity_split=None,\n",
              "                       min_samples_leaf=1, min_samples_split=2,\n",
              "                       min_weight_fraction_leaf=0.0, presort='deprecated',\n",
              "                       random_state=None, splitter='best')"
            ]
          },
          "metadata": {
            "tags": []
          },
          "execution_count": 35
        }
      ]
    },
    {
      "cell_type": "code",
      "metadata": {
        "colab": {
          "base_uri": "https://localhost:8080/"
        },
        "id": "iseCdX_bFJyA",
        "outputId": "a8afa730-c84a-415a-80bb-d39705325872"
      },
      "source": [
        "y_preds_tree=model_tree.predict(x_test)\n",
        "y_preds_tree"
      ],
      "execution_count": null,
      "outputs": [
        {
          "output_type": "execute_result",
          "data": {
            "text/plain": [
              "array([0, 0, 0, 0, 0, 0, 0, 1, 0, 1, 0, 0, 0, 0, 0, 1, 0, 0, 1, 0, 0, 1,\n",
              "       0, 1, 0, 1, 0, 0, 0, 0, 0, 0, 1, 0, 0, 0, 0, 0, 0, 1, 0, 0, 0, 0,\n",
              "       1, 0, 0, 1, 0, 1, 1, 0, 0, 1, 1, 1, 0, 0, 1, 0, 0, 1, 0, 1, 0, 0,\n",
              "       0, 0, 0, 0, 1, 0, 0, 1, 0, 0, 0, 0, 1, 1])"
            ]
          },
          "metadata": {
            "tags": []
          },
          "execution_count": 36
        }
      ]
    },
    {
      "cell_type": "code",
      "metadata": {
        "colab": {
          "base_uri": "https://localhost:8080/",
          "height": 571
        },
        "id": "4JKt3zrUGRw9",
        "outputId": "1034225b-9f88-49ef-bcae-b702efe7d6dc"
      },
      "source": [
        "#visualising all the nodes of decision tree generated\n",
        "from sklearn import tree\n",
        "tree.plot_tree(model_tree.fit(x_train,y_train))"
      ],
      "execution_count": null,
      "outputs": [
        {
          "output_type": "execute_result",
          "data": {
            "text/plain": [
              "[Text(167.4, 199.32, 'X[0] <= 0.654\\ngini = 0.47\\nsamples = 320\\nvalue = [199, 121]'),\n",
              " Text(103.01538461538462, 163.07999999999998, 'X[1] <= 0.61\\ngini = 0.311\\nsamples = 228\\nvalue = [184, 44]'),\n",
              " Text(51.50769230769231, 126.83999999999999, 'X[0] <= -0.11\\ngini = 0.082\\nsamples = 186\\nvalue = [178, 8]'),\n",
              " Text(25.753846153846155, 90.6, 'gini = 0.0\\nsamples = 120\\nvalue = [120, 0]'),\n",
              " Text(77.26153846153846, 90.6, 'gini = 0.213\\nsamples = 66\\nvalue = [58, 8]'),\n",
              " Text(154.52307692307693, 126.83999999999999, 'X[0] <= -1.065\\ngini = 0.245\\nsamples = 42\\nvalue = [6, 36]'),\n",
              " Text(128.76923076923077, 90.6, 'gini = 0.0\\nsamples = 1\\nvalue = [1, 0]'),\n",
              " Text(180.27692307692308, 90.6, 'gini = 0.214\\nsamples = 41\\nvalue = [5, 36]'),\n",
              " Text(231.7846153846154, 163.07999999999998, 'X[1] <= -0.829\\ngini = 0.273\\nsamples = 92\\nvalue = [15, 77]'),\n",
              " Text(206.03076923076924, 126.83999999999999, 'gini = 0.059\\nsamples = 33\\nvalue = [1, 32]'),\n",
              " Text(257.53846153846155, 126.83999999999999, 'X[1] <= 0.463\\ngini = 0.362\\nsamples = 59\\nvalue = [14, 45]'),\n",
              " Text(231.7846153846154, 90.6, 'X[0] <= 1.322\\ngini = 0.48\\nsamples = 25\\nvalue = [10, 15]'),\n",
              " Text(180.27692307692308, 54.359999999999985, 'X[0] <= 1.036\\ngini = 0.49\\nsamples = 14\\nvalue = [8, 6]'),\n",
              " Text(154.52307692307693, 18.119999999999976, 'gini = 0.496\\nsamples = 11\\nvalue = [5, 6]'),\n",
              " Text(206.03076923076924, 18.119999999999976, 'gini = 0.0\\nsamples = 3\\nvalue = [3, 0]'),\n",
              " Text(283.2923076923077, 54.359999999999985, 'X[1] <= 0.375\\ngini = 0.298\\nsamples = 11\\nvalue = [2, 9]'),\n",
              " Text(257.53846153846155, 18.119999999999976, 'gini = 0.18\\nsamples = 10\\nvalue = [1, 9]'),\n",
              " Text(309.04615384615386, 18.119999999999976, 'gini = 0.0\\nsamples = 1\\nvalue = [1, 0]'),\n",
              " Text(283.2923076923077, 90.6, 'gini = 0.208\\nsamples = 34\\nvalue = [4, 30]')]"
            ]
          },
          "metadata": {
            "tags": []
          },
          "execution_count": 40
        },
        {
          "output_type": "display_data",
          "data": {
            "image/png": "[encoded data removed]",
            "text/plain": [
              "<Figure size 432x288 with 1 Axes>"
            ]
          },
          "metadata": {
            "tags": [],
            "needs_background": "light"
          }
        }
      ]
    },
    {
      "cell_type": "code",
      "metadata": {
        "colab": {
          "base_uri": "https://localhost:8080/"
        },
        "id": "_KQbp12eFSqf",
        "outputId": "c1b62468-b439-4c04-e15a-f647a1324849"
      },
      "source": [
        "cm_tree=confusion_matrix(y_test,y_preds_tree)\n",
        "cm_tree"
      ],
      "execution_count": null,
      "outputs": [
        {
          "output_type": "execute_result",
          "data": {
            "text/plain": [
              "array([[55,  3],\n",
              "       [ 2, 20]])"
            ]
          },
          "metadata": {
            "tags": []
          },
          "execution_count": 41
        }
      ]
    },
    {
      "cell_type": "code",
      "metadata": {
        "colab": {
          "base_uri": "https://localhost:8080/",
          "height": 282
        },
        "id": "Lblm-MPvFZk_",
        "outputId": "bb69f7c0-2eab-44b9-a3c4-16c5818bf486"
      },
      "source": [
        "sns.heatmap(cm_tree)"
      ],
      "execution_count": null,
      "outputs": [
        {
          "output_type": "execute_result",
          "data": {
            "text/plain": [
              "<matplotlib.axes._subplots.AxesSubplot at 0x7fbaeaf78790>"
            ]
          },
          "metadata": {
            "tags": []
          },
          "execution_count": 42
        },
        {
          "output_type": "display_data",
          "data": {
            "image/png": "[encoded data removed]",
            "text/plain": [
              "<Figure size 432x288 with 2 Axes>"
            ]
          },
          "metadata": {
            "tags": [],
            "needs_background": "light"
          }
        }
      ]
    },
    {
      "cell_type": "markdown",
      "metadata": {
        "id": "biB-pGk1eJjZ"
      },
      "source": [
        "**Applying Random Forest Classifier**"
      ]
    },
    {
      "cell_type": "code",
      "metadata": {
        "colab": {
          "base_uri": "https://localhost:8080/"
        },
        "id": "4dLpwF57LyVk",
        "outputId": "3f044e8d-6725-4bc6-ff9b-eee347791f36"
      },
      "source": [
        "#ensemble learning is helpful for larger datasets not small datasets like this\n",
        "#if used for small datasets it leads to overfitting of model\n",
        "from sklearn.ensemble import RandomForestClassifier\n",
        "model_forest=RandomForestClassifier(max_leaf_nodes=10)\n",
        "model_forest.fit(x_train,y_train)"
      ],
      "execution_count": null,
      "outputs": [
        {
          "output_type": "execute_result",
          "data": {
            "text/plain": [
              "RandomForestClassifier(bootstrap=True, ccp_alpha=0.0, class_weight=None,\n",
              "                       criterion='gini', max_depth=None, max_features='auto',\n",
              "                       max_leaf_nodes=10, max_samples=None,\n",
              "                       min_impurity_decrease=0.0, min_impurity_split=None,\n",
              "                       min_samples_leaf=1, min_samples_split=2,\n",
              "                       min_weight_fraction_leaf=0.0, n_estimators=100,\n",
              "                       n_jobs=None, oob_score=False, random_state=None,\n",
              "                       verbose=0, warm_start=False)"
            ]
          },
          "metadata": {
            "tags": []
          },
          "execution_count": 51
        }
      ]
    },
    {
      "cell_type": "code",
      "metadata": {
        "colab": {
          "base_uri": "https://localhost:8080/"
        },
        "id": "HSd2VXMuZuyE",
        "outputId": "b3416735-84cb-4010-f62f-b7f42af0a37d"
      },
      "source": [
        "y_preds_forest=model_forest.predict(x_test)\n",
        "y_preds_forest"
      ],
      "execution_count": null,
      "outputs": [
        {
          "output_type": "execute_result",
          "data": {
            "text/plain": [
              "array([0, 0, 0, 0, 0, 0, 0, 1, 0, 1, 0, 0, 0, 0, 0, 1, 0, 0, 1, 0, 0, 1,\n",
              "       0, 1, 0, 1, 0, 0, 0, 0, 0, 0, 1, 0, 0, 0, 0, 0, 0, 1, 0, 0, 0, 0,\n",
              "       1, 0, 0, 1, 0, 1, 1, 0, 0, 1, 1, 1, 0, 0, 1, 0, 0, 1, 0, 1, 0, 1,\n",
              "       0, 0, 0, 0, 1, 0, 0, 1, 0, 0, 0, 0, 1, 1])"
            ]
          },
          "metadata": {
            "tags": []
          },
          "execution_count": 52
        }
      ]
    },
    {
      "cell_type": "code",
      "metadata": {
        "colab": {
          "base_uri": "https://localhost:8080/"
        },
        "id": "76Il1hyuZ8_s",
        "outputId": "04cf09c6-57df-4884-d035-eafd9e4c4041"
      },
      "source": [
        "cm_forest=confusion_matrix(y_test,y_preds_forest)\n",
        "cm_forest"
      ],
      "execution_count": null,
      "outputs": [
        {
          "output_type": "execute_result",
          "data": {
            "text/plain": [
              "array([[55,  3],\n",
              "       [ 1, 21]])"
            ]
          },
          "metadata": {
            "tags": []
          },
          "execution_count": 53
        }
      ]
    },
    {
      "cell_type": "code",
      "metadata": {
        "colab": {
          "base_uri": "https://localhost:8080/",
          "height": 282
        },
        "id": "g85SmajoaSWt",
        "outputId": "da146eef-b22f-42d6-8cc1-314a0a2474f9"
      },
      "source": [
        "sns.heatmap(cm_forest)"
      ],
      "execution_count": null,
      "outputs": [
        {
          "output_type": "execute_result",
          "data": {
            "text/plain": [
              "<matplotlib.axes._subplots.AxesSubplot at 0x7fbaeab17210>"
            ]
          },
          "metadata": {
            "tags": []
          },
          "execution_count": 54
        },
        {
          "output_type": "display_data",
          "data": {
            "image/png": "[encoded data removed]",
            "text/plain": [
              "<Figure size 432x288 with 2 Axes>"
            ]
          },
          "metadata": {
            "tags": [],
            "needs_background": "light"
          }
        }
      ]
    },
    {
      "cell_type": "code",
      "metadata": {
        "colab": {
          "base_uri": "https://localhost:8080/"
        },
        "id": "AHyX0TxMaYFE",
        "outputId": "e1290cb5-4967-42b8-e23c-e06b2b1ca5d9"
      },
      "source": [
        "#Naive Bayes is mainly used when all features have categorical values to get best result\n",
        "#when used for numerical features there is lower accuracy than other classification problems\n",
        "from sklearn.naive_bayes import GaussianNB\n",
        "model_nb=GaussianNB()\n",
        "model_nb.fit(x_train,y_train)"
      ],
      "execution_count": null,
      "outputs": [
        {
          "output_type": "execute_result",
          "data": {
            "text/plain": [
              "GaussianNB(priors=None, var_smoothing=1e-09)"
            ]
          },
          "metadata": {
            "tags": []
          },
          "execution_count": 55
        }
      ]
    },
    {
      "cell_type": "code",
      "metadata": {
        "colab": {
          "base_uri": "https://localhost:8080/"
        },
        "id": "i0heRFovfF6D",
        "outputId": "2689121b-96a1-43fe-edc3-66eb38b95ae5"
      },
      "source": [
        "y_preds_nb=model_nb.predict(x_test)\n",
        "y_preds_nb"
      ],
      "execution_count": null,
      "outputs": [
        {
          "output_type": "execute_result",
          "data": {
            "text/plain": [
              "array([0, 0, 0, 0, 0, 0, 0, 1, 0, 1, 0, 0, 0, 0, 0, 1, 0, 0, 1, 0, 0, 1,\n",
              "       0, 1, 0, 1, 0, 0, 0, 0, 0, 0, 1, 0, 0, 0, 0, 0, 0, 1, 0, 0, 0, 0,\n",
              "       1, 0, 0, 1, 0, 1, 1, 0, 0, 1, 1, 0, 0, 0, 1, 0, 0, 1, 0, 0, 0, 1,\n",
              "       0, 0, 0, 0, 1, 0, 0, 0, 0, 0, 0, 0, 1, 1])"
            ]
          },
          "metadata": {
            "tags": []
          },
          "execution_count": 56
        }
      ]
    },
    {
      "cell_type": "code",
      "metadata": {
        "colab": {
          "base_uri": "https://localhost:8080/"
        },
        "id": "Nv4-QgoufPb8",
        "outputId": "c05203ba-89ad-4fea-a4e4-5a2471542e89"
      },
      "source": [
        "cm_nb=confusion_matrix(y_test,y_preds_nb)\n",
        "cm_nb"
      ],
      "execution_count": null,
      "outputs": [
        {
          "output_type": "execute_result",
          "data": {
            "text/plain": [
              "array([[55,  3],\n",
              "       [ 4, 18]])"
            ]
          },
          "metadata": {
            "tags": []
          },
          "execution_count": 57
        }
      ]
    },
    {
      "cell_type": "code",
      "metadata": {
        "colab": {
          "base_uri": "https://localhost:8080/",
          "height": 282
        },
        "id": "iV-EoWJffgzc",
        "outputId": "4d80e874-13b1-495a-9633-fd75e1f17c33"
      },
      "source": [
        "sns.heatmap(cm_nb)"
      ],
      "execution_count": null,
      "outputs": [
        {
          "output_type": "execute_result",
          "data": {
            "text/plain": [
              "<matplotlib.axes._subplots.AxesSubplot at 0x7fbaeaa014d0>"
            ]
          },
          "metadata": {
            "tags": []
          },
          "execution_count": 58
        },
        {
          "output_type": "display_data",
          "data": {
            "image/png": "[encoded data removed]",
            "text/plain": [
              "<Figure size 432x288 with 2 Axes>"
            ]
          },
          "metadata": {
            "tags": [],
            "needs_background": "light"
          }
        }
      ]
    }
  ]
}